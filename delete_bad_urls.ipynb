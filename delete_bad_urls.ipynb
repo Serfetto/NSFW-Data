{
  "nbformat": 4,
  "nbformat_minor": 0,
  "metadata": {
    "colab": {
      "provenance": []
    },
    "kernelspec": {
      "name": "python3",
      "display_name": "Python 3"
    },
    "language_info": {
      "name": "python"
    }
  },
  "cells": [
    {
      "cell_type": "code",
      "execution_count": 1,
      "metadata": {
        "colab": {
          "base_uri": "https://localhost:8080/"
        },
        "id": "oLOqtQTIUoKc",
        "outputId": "4d5724a3-50f2-463c-d24d-dbec9981d933"
      },
      "outputs": [
        {
          "output_type": "stream",
          "name": "stdout",
          "text": [
            "Cloning into 'nsfw_data_scraper'...\n",
            "remote: Enumerating objects: 233, done.\u001b[K\n",
            "remote: Counting objects: 100% (71/71), done.\u001b[K\n",
            "remote: Compressing objects: 100% (31/31), done.\u001b[K\n",
            "remote: Total 233 (delta 43), reused 40 (delta 40), pack-reused 162\u001b[K\n",
            "Receiving objects: 100% (233/233), 8.27 MiB | 8.95 MiB/s, done.\n",
            "Resolving deltas: 100% (119/119), done.\n"
          ]
        }
      ],
      "source": [
        "!git clone https://github.com/alex000kim/nsfw_data_scraper nsfw_data_scraper/"
      ]
    },
    {
      "cell_type": "code",
      "source": [
        "import requests, os"
      ],
      "metadata": {
        "id": "pdkUBy8rLRDn"
      },
      "execution_count": 2,
      "outputs": []
    },
    {
      "cell_type": "code",
      "source": [
        "categories_for_data = ['drawings', 'hentai', 'neutral', 'porn', 'sexy']"
      ],
      "metadata": {
        "id": "6T3a3REdK8GA"
      },
      "execution_count": 3,
      "outputs": []
    },
    {
      "cell_type": "code",
      "execution_count": 4,
      "metadata": {
        "id": "TWgXP7MlHaEQ"
      },
      "outputs": [],
      "source": [
        "def delete_bad_url(folders):\n",
        "  for folder in folders:\n",
        "    file_path = f\"/content/nsfw_data_scraper/raw_data/{folder}/urls_{folder}.txt\"\n",
        "    with open(file_path, 'r') as f:\n",
        "      urls = [url.strip() for url in f.readlines()]\n",
        "\n",
        "    path_to_file = f\"/content/nsfw_data_scraper/raw_data/{folder}/new_urls_{folder}.txt\"\n",
        "    with open(path_to_file, \"w\") as f:\n",
        "      for url in urls:\n",
        "        try:\n",
        "          data = requests.get(url)\n",
        "          data.raise_for_status()\n",
        "          if data.status_code == 200:\n",
        "            f.write(f\"{url}\\n\");\n",
        "            print(f\"Url is add to new file: new_urls_{folder}.txt, url: {url}\")\n",
        "\n",
        "        except Exception as e:\n",
        "          print(f\"Faild to get image url: {e}\")\n",
        "\n",
        "      print(f\"File is ready new_urls_{folder}.txt\")"
      ]
    },
    {
      "cell_type": "code",
      "execution_count": null,
      "metadata": {
        "id": "X0uzZPmyHaEQ"
      },
      "outputs": [],
      "source": [
        "delete_bad_url(categories_for_data)"
      ]
    }
  ]
}