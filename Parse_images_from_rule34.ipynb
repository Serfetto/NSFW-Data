{
  "nbformat": 4,
  "nbformat_minor": 0,
  "metadata": {
    "colab": {
      "provenance": []
    },
    "kernelspec": {
      "name": "python3",
      "display_name": "Python 3"
    },
    "language_info": {
      "name": "python"
    }
  },
  "cells": [
    {
      "cell_type": "code",
      "source": [
        "!pip install rule34py"
      ],
      "metadata": {
        "colab": {
          "base_uri": "https://localhost:8080/"
        },
        "id": "WEU6OTY7U8pd",
        "outputId": "1eeeebe6-ff04-44fd-8abd-be023e617d2a"
      },
      "execution_count": 2,
      "outputs": [
        {
          "output_type": "stream",
          "name": "stdout",
          "text": [
            "Collecting rule34py\n",
            "  Downloading rule34Py-1.4.11-py3-none-any.whl.metadata (3.5 kB)\n",
            "Requirement already satisfied: beautifulsoup4>=4.9.3 in /usr/local/lib/python3.10/dist-packages (from rule34py) (4.12.3)\n",
            "Requirement already satisfied: requests>=2.27.1 in /usr/local/lib/python3.10/dist-packages (from rule34py) (2.31.0)\n",
            "Requirement already satisfied: lxml>=4.6.4 in /usr/local/lib/python3.10/dist-packages (from rule34py) (4.9.4)\n",
            "Requirement already satisfied: soupsieve>1.2 in /usr/local/lib/python3.10/dist-packages (from beautifulsoup4>=4.9.3->rule34py) (2.5)\n",
            "Requirement already satisfied: charset-normalizer<4,>=2 in /usr/local/lib/python3.10/dist-packages (from requests>=2.27.1->rule34py) (3.3.2)\n",
            "Requirement already satisfied: idna<4,>=2.5 in /usr/local/lib/python3.10/dist-packages (from requests>=2.27.1->rule34py) (3.7)\n",
            "Requirement already satisfied: urllib3<3,>=1.21.1 in /usr/local/lib/python3.10/dist-packages (from requests>=2.27.1->rule34py) (2.0.7)\n",
            "Requirement already satisfied: certifi>=2017.4.17 in /usr/local/lib/python3.10/dist-packages (from requests>=2.27.1->rule34py) (2024.7.4)\n",
            "Downloading rule34Py-1.4.11-py3-none-any.whl (29 kB)\n",
            "Installing collected packages: rule34py\n",
            "Successfully installed rule34py-1.4.11\n"
          ]
        }
      ]
    },
    {
      "cell_type": "code",
      "source": [
        "import os, requests\n",
        "from rule34Py import rule34Py"
      ],
      "metadata": {
        "id": "pCQo6IQyUset"
      },
      "execution_count": 3,
      "outputs": []
    },
    {
      "cell_type": "code",
      "execution_count": 10,
      "metadata": {
        "id": "pzGdU-7hJR1m"
      },
      "outputs": [],
      "source": [
        "def parser_from_rule34(num_of_pages, tags):\n",
        "  r34Py = rule34Py()\n",
        "  i = 0\n",
        "\n",
        "  for page_id in range(1, num_of_pages):\n",
        "    list_items = r34Py.search(tags=tags, page_id=page_id, limit=1000)\n",
        "    for item in list_items:\n",
        "        if item._file_type == 'image':\n",
        "          try:\n",
        "            url = item.image\n",
        "\n",
        "            path_to_save = f\"/content/hentai/\" + os.path.basename(url)\n",
        "\n",
        "            image = requests.get(url)\n",
        "            image.raise_for_status()\n",
        "            image = image.content\n",
        "\n",
        "            with open(path_to_save, 'wb') as f:\n",
        "              f.write(image)\n",
        "\n",
        "            i += 1\n",
        "\n",
        "            print(f\"Download image: {i}, Url:{url}, path: {path_to_save}\")\n",
        "\n",
        "          except Exception as e:\n",
        "            print(f\"Faild to get image: {url}\")"
      ]
    },
    {
      "cell_type": "code",
      "execution_count": 5,
      "metadata": {
        "id": "FjZm__A-JPEG"
      },
      "outputs": [],
      "source": [
        "num_of_pages = 10"
      ]
    },
    {
      "cell_type": "code",
      "source": [
        "tags = [\"uncensored\"]"
      ],
      "metadata": {
        "id": "HGpUvFEaVall"
      },
      "execution_count": 6,
      "outputs": []
    },
    {
      "cell_type": "code",
      "source": [
        "os.makedirs(\"/content/hentai\", exist_ok=True)"
      ],
      "metadata": {
        "id": "xrIPgefhVYOt"
      },
      "execution_count": 8,
      "outputs": []
    },
    {
      "cell_type": "code",
      "source": [
        "parser_from_rule34(num_of_pages, tags)"
      ],
      "metadata": {
        "id": "2UxB-CMxVZGF"
      },
      "execution_count": null,
      "outputs": []
    }
  ]
}